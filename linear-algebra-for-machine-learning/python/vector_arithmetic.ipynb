{
 "cells": [
  {
   "cell_type": "code",
   "execution_count": 3,
   "metadata": {},
   "outputs": [
    {
     "name": "stdout",
     "output_type": "stream",
     "text": [
      "Collecting numpy\n",
      "  Obtaining dependency information for numpy from https://files.pythonhosted.org/packages/c9/57/3cb8131a0e6d559501e088d3e685f4122e9ff9104c4b63e4dfd3a577b491/numpy-1.25.2-cp311-cp311-macosx_10_9_x86_64.whl.metadata\n",
      "  Using cached numpy-1.25.2-cp311-cp311-macosx_10_9_x86_64.whl.metadata (5.6 kB)\n",
      "Using cached numpy-1.25.2-cp311-cp311-macosx_10_9_x86_64.whl (20.8 MB)\n",
      "Installing collected packages: numpy\n",
      "Successfully installed numpy-1.25.2\n",
      "Note: you may need to restart the kernel to use updated packages.\n"
     ]
    }
   ],
   "source": [
    "%pip install numpy"
   ]
  },
  {
   "cell_type": "code",
   "execution_count": 4,
   "id": "2d380c13",
   "metadata": {},
   "outputs": [],
   "source": [
    "import numpy as np"
   ]
  },
  {
   "cell_type": "code",
   "execution_count": 5,
   "id": "59bf75c5",
   "metadata": {},
   "outputs": [],
   "source": [
    "a = np.array([20, 40, 60])\n",
    "b = np.array([10, 20, 30])\n",
    "c = np.array([5, 10, 15, 20])"
   ]
  },
  {
   "cell_type": "code",
   "execution_count": 6,
   "id": "ccd4ddd3",
   "metadata": {},
   "outputs": [
    {
     "data": {
      "text/plain": [
       "array([30, 60, 90])"
      ]
     },
     "execution_count": 6,
     "metadata": {},
     "output_type": "execute_result"
    }
   ],
   "source": [
    "# This is valid since both vectors have the same dimensionality \n",
    "a+b"
   ]
  },
  {
   "cell_type": "code",
   "execution_count": 7,
   "id": "50dbbc83",
   "metadata": {},
   "outputs": [
    {
     "ename": "ValueError",
     "evalue": "operands could not be broadcast together with shapes (3,) (4,) ",
     "output_type": "error",
     "traceback": [
      "\u001b[0;31m---------------------------------------------------------------------------\u001b[0m",
      "\u001b[0;31mValueError\u001b[0m                                Traceback (most recent call last)",
      "\u001b[1;32m/Users/jnordheim/dev/learning/linear-algebra-for-machine-learning/code/vector_arithmetic.ipynb Cell 5\u001b[0m line \u001b[0;36m1\n\u001b[0;32m----> <a href='vscode-notebook-cell:/Users/jnordheim/dev/learning/linear-algebra-for-machine-learning/code/vector_arithmetic.ipynb#W4sZmlsZQ%3D%3D?line=0'>1</a>\u001b[0m a\u001b[39m+\u001b[39;49mc\n",
      "\u001b[0;31mValueError\u001b[0m: operands could not be broadcast together with shapes (3,) (4,) "
     ]
    }
   ],
   "source": [
    "# the is invalid since both vectors do NOT have the same dimensionality \n",
    "a+c"
   ]
  },
  {
   "cell_type": "code",
   "execution_count": 8,
   "id": "405cd8c0",
   "metadata": {},
   "outputs": [
    {
     "data": {
      "text/plain": [
       "array([10, 20, 30])"
      ]
     },
     "execution_count": 8,
     "metadata": {},
     "output_type": "execute_result"
    }
   ],
   "source": [
    "a-b"
   ]
  },
  {
   "cell_type": "code",
   "execution_count": 9,
   "id": "c140c7c6",
   "metadata": {},
   "outputs": [
    {
     "data": {
      "text/plain": [
       "array([ 200,  800, 1800])"
      ]
     },
     "execution_count": 9,
     "metadata": {},
     "output_type": "execute_result"
    }
   ],
   "source": [
    "a*b"
   ]
  },
  {
   "cell_type": "code",
   "execution_count": 10,
   "id": "26b16354",
   "metadata": {},
   "outputs": [
    {
     "data": {
      "text/plain": [
       "array([2., 2., 2.])"
      ]
     },
     "execution_count": 10,
     "metadata": {},
     "output_type": "execute_result"
    }
   ],
   "source": [
    "a/b"
   ]
  },
  {
   "cell_type": "code",
   "execution_count": 17,
   "id": "691d9d98",
   "metadata": {},
   "outputs": [],
   "source": [
    "scalar = 2"
   ]
  },
  {
   "cell_type": "code",
   "execution_count": 13,
   "id": "50a88440",
   "metadata": {},
   "outputs": [
    {
     "name": "stdout",
     "output_type": "stream",
     "text": [
      "[10, 11, 12, 13, 14, 15]\n"
     ]
    }
   ],
   "source": [
    "list_a = [10,11,12,13,14,15]\n",
    "print(list_a)"
   ]
  },
  {
   "cell_type": "code",
   "execution_count": 14,
   "id": "6dfa42d6",
   "metadata": {},
   "outputs": [
    {
     "name": "stdout",
     "output_type": "stream",
     "text": [
      "[10 11 12 13 14 15]\n"
     ]
    }
   ],
   "source": [
    "list_as_array = np.array(list_a)\n",
    "print(list_as_array)"
   ]
  },
  {
   "cell_type": "code",
   "execution_count": 20,
   "id": "863c9497",
   "metadata": {},
   "outputs": [
    {
     "name": "stdout",
     "output_type": "stream",
     "text": [
      "Correct: [20 22 24 26 28 30]\n",
      "Incorrect: [10, 11, 12, 13, 14, 15, 10, 11, 12, 13, 14, 15]\n"
     ]
    }
   ],
   "source": [
    "# Scalar multiplication with vectors \n",
    "correct = scalar * list_as_array\n",
    "incorrect = scalar * list_a\n",
    "\n",
    "print(f'Correct: {correct}')\n",
    "print(f'Incorrect: {incorrect}')"
   ]
  },
  {
   "cell_type": "code",
   "execution_count": null,
   "id": "361d30ab",
   "metadata": {},
   "outputs": [],
   "source": [
    "# Vector Addition\n",
    "# ==============================================\n",
    "# Adding 2 vectors traverses from the tail of the first vector to the head of the second vector \n",
    "\n",
    "# Vector Subtraction \n",
    "# ==============================================\n",
    "# Subtracting 2 vectors requires translating the vectors such that their tails are at the same coordinates \n",
    "# The difference (subtraction) is the line (vector) that goes from the head of the negative vector to the head of the positive vector \n",
    "\n",
    "# Vector Multiplication\n",
    "# ============================================== \n",
    "# Vector multiplication has 4 possible cases: \n",
    "# A: Scalar value is greater than 1 \n",
    "# B: Scalar value is between 1 and 0 \n",
    "# C: Scalar value is exactly 0 \n",
    "# D: Scalar value is negative (less than 0)\n",
    "# Only in case D (scalar value is negative) will the vector change direction\n"
   ]
  }
 ],
 "metadata": {
  "kernelspec": {
   "display_name": "Python 3",
   "language": "python",
   "name": "python3"
  },
  "language_info": {
   "codemirror_mode": {
    "name": "ipython",
    "version": 3
   },
   "file_extension": ".py",
   "mimetype": "text/x-python",
   "name": "python",
   "nbconvert_exporter": "python",
   "pygments_lexer": "ipython3",
   "version": "3.11.5"
  }
 },
 "nbformat": 4,
 "nbformat_minor": 5
}
