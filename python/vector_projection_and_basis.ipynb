{
 "cells": [
  {
   "cell_type": "markdown",
   "id": "600020b4",
   "metadata": {},
   "source": [
    "# Dot Product of Vectors\n",
    "\n",
    "There are 3 different ways we can represent the dot product of two vectors \n",
    "\n",
    "1. a<sup>t</sup>b\n",
    "2. a · b\n",
    "3. ⟨a, b〉\n",
    "\n",
    "As a formula, we can represent the relationship between vectors in dot notation like:\n",
    "\n",
    "```\n",
    "a · b = Σ aٖ bٖ\n",
    "```\n",
    "\n",
    "Example: \n",
    "\n",
    "```py\n",
    "vector_a = [1, 2, 3, 4, 5]\n",
    "vector_b = [6, 7, 8, 9, 10]\n",
    "\n",
    "# dot product = a · b = (1 * 6) + (2 * 7) + (3 * 8) + (4 * 9) + (5 + 10)\n",
    "a * b = 130 \n",
    "```\n",
    "\n",
    "Basic Properties \n",
    "- It is communicative: in other words, if the vectors switch places (order) the dot product is the same \n",
    "- It is distributive: in other words, we can use factorials to calculate the end product (e.g. `a(b + c) = a * b + a * c`)"
   ]
  },
  {
   "cell_type": "code",
   "execution_count": 2,
   "id": "a79a013e",
   "metadata": {},
   "outputs": [],
   "source": [
    "import numpy as np"
   ]
  },
  {
   "cell_type": "code",
   "execution_count": 4,
   "id": "60782e6c",
   "metadata": {},
   "outputs": [
    {
     "data": {
      "text/plain": [
       "130"
      ]
     },
     "execution_count": 4,
     "metadata": {},
     "output_type": "execute_result"
    }
   ],
   "source": [
    "a = np.array([1, 2, 3, 4, 5])\n",
    "b = np.array([6, 7, 8, 9, 10])\n",
    "\n",
    "# dot product of vectors \n",
    "np.dot(a, b)"
   ]
  },
  {
   "cell_type": "code",
   "execution_count": 5,
   "id": "cae0a0e6",
   "metadata": {},
   "outputs": [
    {
     "name": "stdout",
     "output_type": "stream",
     "text": [
      "example a: 130\n",
      "example b: 130\n"
     ]
    }
   ],
   "source": [
    "# Communicative Property Example\n",
    "example_a = np.dot(b, a) \n",
    "example_b = np.dot(a, b)\n",
    "\n",
    "# note that the results are the same \n",
    "print(f'example a: {example_a}')\n",
    "print(f'example b: {example_b}')"
   ]
  },
  {
   "cell_type": "code",
   "execution_count": 6,
   "id": "5b97ec9f",
   "metadata": {},
   "outputs": [
    {
     "name": "stdout",
     "output_type": "stream",
     "text": [
      "first result 〈a, b + c〉: 335\n",
      "second result 〈a, b〉+ 〈a,c〉 : 335\n"
     ]
    }
   ],
   "source": [
    "# Distributive Property Example \n",
    "c = np.array([11, 12, 13, 14, 15])\n",
    "\n",
    "first_result = np.dot(a, b +c)\n",
    "print(f'first result 〈a, b + c〉: { first_result }')\n",
    "\n",
    "second_result = np.dot(a, b) + np.dot(a, c)\n",
    "print(f'second result 〈a, b〉+ 〈a,c〉 : {second_result}')\n"
   ]
  },
  {
   "cell_type": "markdown",
   "id": "d3ea0ef7",
   "metadata": {},
   "source": [
    "# Scalar and Vector Projections \n",
    "\n",
    "**Magnitude**: The distance from the tail to the head of the vector \n",
    "- Also called the \"norm of the geometric length\"\n",
    "- computed using the standard Euclidean distance formula \n",
    "- Represented as `𝄁x𝄁`\n",
    "- In `numPy` the magnitude function is denoted as `np.norm(vector)` \n",
    "\n",
    "**Vector Projection**: is the projection of one vector onto another vector \n",
    "- Also known as the \"orthogonal projection of a onto b\"\n",
    "- The result of a vector projection is known as a \"scalar projection\""
   ]
  },
  {
   "cell_type": "code",
   "execution_count": 7,
   "id": "b79f8f05",
   "metadata": {},
   "outputs": [],
   "source": [
    "# import packages \n",
    "import numpy as np\n",
    "from numpy import linalg as lng # norm function "
   ]
  },
  {
   "cell_type": "code",
   "execution_count": 8,
   "id": "914030dc",
   "metadata": {},
   "outputs": [
    {
     "name": "stdout",
     "output_type": "stream",
     "text": [
      "the magnitude of vector a is: 74.16198487095663\n",
      "the magnitude of vector b is: 181.6590212458495\n"
     ]
    }
   ],
   "source": [
    "# Calculating Vector Magnitude \n",
    "# vector a \n",
    "v_a = np.array([10,20,30,40,50])\n",
    "# vector b \n",
    "v_b = np.array([60,70,80,90,100])\n",
    "\n",
    "print(f'the magnitude of vector a is: {lng.norm(v_a)}')\n",
    "print(f'the magnitude of vector b is: {lng.norm(v_b)}')"
   ]
  },
  {
   "cell_type": "code",
   "execution_count": 9,
   "id": "25eac5ca",
   "metadata": {},
   "outputs": [
    {
     "name": "stdout",
     "output_type": "stream",
     "text": [
      "the vector projection of a onto b is: [23.63636364 27.57575758 31.51515152 35.45454545 39.39393939]\n"
     ]
    }
   ],
   "source": [
    "# Calculating Vector Projection\n",
    "vector_projection = (np.dot(v_a, v_b) / np.dot(v_b, v_b)) * v_b\n",
    "\n",
    "print(f'the vector projection of a onto b is: {vector_projection}')"
   ]
  },
  {
   "cell_type": "markdown",
   "id": "0ad3192d",
   "metadata": {},
   "source": [
    "# Changing Basis of Vectors \n",
    "\n",
    "Machine learning problems can be reduced by changing from one coordinate system to another. This operation is essentially the same as changing from one basis to another. \n",
    "\n",
    "For Example: \n",
    "- Given a coordinate system is defined by 2 vectors: `I` and `J` \n",
    "- These unit factors have coordinates: `I=(0,1)` and `J=(1,0)`\n",
    "- Every unit in space is a unique combination of these basis vectors \n",
    "- This means that we can represent a third vector as a multiple of vector `I` and vector `J` \n",
    "   - e.g. new vector called `a`, where `a = 4e₁ -3e₂`, which we can reduce to `a = (4,-3)`\n",
    "\n",
    "Properties of Basis Vectors\n",
    "- Are linearly independent of each other \n",
    "- Span the whole space: any vector can be written as a linear combination of two vectors \n",
    "- aren't unique: it is possible to find many sets of basis vectors \n",
    "\n",
    "## Orthogonality and Vectors\n",
    "\n",
    "In order to change the basis of a vector, the two component vectors must be orthogonal. A vector is considered orthogonal if their dot product is equal to zero. In other words; they are perpendicular to one another. \n",
    "\n",
    "In machine learning, orthogonality is often used to _de-correlate features_ (i.e. determine that features are not correlated with one another)\n",
    "\n",
    "Useful properties of Orthogonal Matrices:\n",
    "- Their inverse is equal to their transpose \n",
    "- Their product with their transpose is the identity matrix \n",
    "- they preserve length and angle of vectors \n",
    "\n",
    "Orthogonal matrices are often used in machine learning algorithms such as:\n",
    "- Principal component analysis (PCA)\n",
    "- Singular value decomposition (SVD)"
   ]
  },
  {
   "cell_type": "markdown",
   "id": "4302a475",
   "metadata": {},
   "source": [
    "# Basis, Linear Independence and Span \n",
    "\n",
    "Every vector in the vector space can be built up based on the elements in the spanning set using only operations of addition and scalar multiplication. \n",
    "\n",
    "By definition a **spanning set** is the set `v1` until `vn` is a spanning set fro `V` if, and only if, every vector in `V` can be written as a linear combination of `v1`, `v2` until `vn`.\n",
    "\n",
    "Example:\n",
    "- Given a non-zero vector `v1` and that the span of `v1` consists of all the vectors of the formal `lambda a1`:\n",
    "  - `lambda a1` can be positive, negative, or zero\n",
    "  - so any multiple of `v1` should not span any points of the line represented by `lambda a1` \n",
    "  - In order to span the entire space of `v1` we need at least 2 vectors\n",
    "    - the easiest way to accomplish this is by selecting the basis vector (which we will refer to as `e1`) that is equal to `(1,0)` and a second basis vector (which we will refer to as `e2`) that is equal to `(0,1)`\n",
    "  - As such, any vector of `v1` can be represented as a linear combination of `e1` and `e2` \n",
    "    - this can be expressed mathematically as `a = ƛ₁e₁ + ƛ₂e₂`\n",
    "\n",
    "Exceptions to Linear Vector combinations:\n",
    "- Two vectors that line up in the same direction \n",
    "- Two vectors that are `null` vectors \n",
    "\n",
    "## Important Details \n",
    "\n",
    "In order for a vector to become a basis:\n",
    "- The two vectors do not have to be unit vectors, so they can be given any length \n",
    "- The two vectors do not have to be orthogonal or at 90 degrees to one another."
   ]
  },
  {
   "cell_type": "code",
   "execution_count": 12,
   "id": "8ef7fe80",
   "metadata": {},
   "outputs": [
    {
     "name": "stdout",
     "output_type": "stream",
     "text": [
      "scaling the matrix: [[1, 2, 3], [4, 5, 6], [7, 8, 9]] by 2 results in [[2, 4, 6], [8, 10, 12], [14, 16, 18]]\n"
     ]
    }
   ],
   "source": [
    "def scale_matrix(matrix, scalar):\n",
    "    scaled_matrix = []  # Create an empty list to store the scaled matrix\n",
    "    # Iterate through each row in the matrix\n",
    "    for row in matrix:\n",
    "        scaled_row = []  # Create an empty list for the scaled row\n",
    "        # Iterate through each element in the row\n",
    "        for element in row:\n",
    "            scaled_element = element * scalar  # Scale the element by the scalar\n",
    "            scaled_row.append(scaled_element)  # Append the scaled element to the scaled row\n",
    "        scaled_matrix.append(scaled_row)  # Append the scaled row to the scaled matrix\n",
    "    return scaled_matrix\n",
    "\n",
    "matrix = [\n",
    "    [1, 2, 3],\n",
    "    [4, 5, 6],\n",
    "    [7, 8, 9]\n",
    "]\n",
    "\n",
    "scalar = 2\n",
    "\n",
    "scaled_matrix = scale_matrix(matrix, scalar)\n",
    "print(f\"scaling the matrix: {matrix} by {scalar} results in {scale_matrix(matrix, 2)}\")\n"
   ]
  },
  {
   "cell_type": "code",
   "execution_count": 11,
   "id": "9420c226",
   "metadata": {},
   "outputs": [
    {
     "name": "stdout",
     "output_type": "stream",
     "text": [
      "Inverting the matrix: [[1, 2, 3], [4, 5, 6], [7, 8, 9]] results in: [[9, 8, 7], [6, 5, 4], [3, 2, 1]]\n"
     ]
    }
   ],
   "source": [
    "def invert_matrix(matrix):\n",
    "    inverted_matrix = []  # Create an empty list to store the inverted matrix\n",
    "    # Iterate through each row in the matrix in reverse order\n",
    "    for row in matrix[::-1]:\n",
    "        inverted_row = []  # Create an empty list for the inverted row\n",
    "        # Iterate through each element in the row in reverse order\n",
    "        for element in row[::-1]:\n",
    "            inverted_row.append(element)  # Append the element to the inverted row\n",
    "        inverted_matrix.append(inverted_row)  # Append the inverted row to the inverted matrix\n",
    "\n",
    "    return inverted_matrix\n",
    "\n",
    "# Example usage:\n",
    "matrix = [\n",
    "    [1, 2, 3],\n",
    "    [4, 5, 6],\n",
    "    [7, 8, 9]\n",
    "]\n",
    "\n",
    "inverted_matrix = invert_matrix(matrix)\n",
    "\n",
    "print(f'Inverting the matrix: {matrix} results in: {inverted_matrix}')"
   ]
  },
  {
   "cell_type": "code",
   "execution_count": 13,
   "id": "fee26d64",
   "metadata": {},
   "outputs": [
    {
     "name": "stdout",
     "output_type": "stream",
     "text": [
      "Rotating matrix: [[1, 2, 3], [4, 5, 6], [7, 8, 9]] by 45 results in [[2, 3, 3], [1, 2, 6], [1, 4, 8]]\n"
     ]
    }
   ],
   "source": [
    "import math\n",
    "\n",
    "def rotate_matrix(matrix, angle_degrees):\n",
    "    # Convert the angle from degrees to radians\n",
    "    angle_radians = math.radians(angle_degrees)\n",
    "\n",
    "    # Get the dimensions of the original matrix\n",
    "    num_rows = len(matrix)\n",
    "    num_cols = len(matrix[0])\n",
    "\n",
    "    # Calculate the center point of the matrix\n",
    "    center_x = num_cols / 2\n",
    "    center_y = num_rows / 2\n",
    "\n",
    "    # Create an empty rotated matrix with the same dimensions\n",
    "    rotated_matrix = [[0] * num_cols for _ in range(num_rows)]\n",
    "\n",
    "    # Iterate through the original matrix\n",
    "    for i in range(num_rows):\n",
    "        for j in range(num_cols):\n",
    "            # Calculate the coordinates of the current point relative to the center\n",
    "            x = j - center_x\n",
    "            y = i - center_y\n",
    "\n",
    "            # Apply the rotation transformation\n",
    "            new_x = x * math.cos(angle_radians) - y * math.sin(angle_radians)\n",
    "            new_y = x * math.sin(angle_radians) + y * math.cos(angle_radians)\n",
    "\n",
    "            # Translate the rotated point back to the original coordinate system\n",
    "            new_i = int(new_y + center_y)\n",
    "            new_j = int(new_x + center_x)\n",
    "\n",
    "            # Check if the new coordinates are within the bounds of the matrix\n",
    "            if 0 <= new_i < num_rows and 0 <= new_j < num_cols:\n",
    "                rotated_matrix[i][j] = matrix[new_i][new_j]\n",
    "\n",
    "    return rotated_matrix\n",
    "\n",
    "# Example usage:\n",
    "matrix = [\n",
    "    [1, 2, 3],\n",
    "    [4, 5, 6],\n",
    "    [7, 8, 9]\n",
    "]\n",
    "\n",
    "angle_degrees = 45  # Rotate by 45 degrees\n",
    "\n",
    "rotated_matrix = rotate_matrix(matrix, angle_degrees)\n",
    "\n",
    "print(f'Rotating matrix: {matrix} by {angle_degrees} results in {rotated_matrix}')"
   ]
  },
  {
   "cell_type": "code",
   "execution_count": 14,
   "id": "8a858a8b",
   "metadata": {},
   "outputs": [
    {
     "name": "stdout",
     "output_type": "stream",
     "text": [
      "Solutions: [2.0, 3.0, -0.9999999999999999]\n"
     ]
    }
   ],
   "source": [
    "# Gaussian Elimination\n",
    "import sys\n",
    "\n",
    "def gaussian_elimination(matrix, constants):\n",
    "    num_rows = len(matrix)\n",
    "    num_cols = len(matrix[0])\n",
    "    \n",
    "    # Combine the matrix and constants to create the coefficient matrix\n",
    "    augmented_matrix = [matrix[i] + [constants[i][0]] for i in range(num_rows)]\n",
    "    \n",
    "    for i in range(num_rows):\n",
    "        # Partial pivoting: find the row with the maximum value in the current column\n",
    "        max_row = i\n",
    "        for k in range(i + 1, num_rows):\n",
    "            if abs(augmented_matrix[k][i]) > abs(augmented_matrix[max_row][i]):\n",
    "                max_row = k\n",
    "        \n",
    "        # Swap the current row with the row containing the maximum value\n",
    "        augmented_matrix[i], augmented_matrix[max_row] = augmented_matrix[max_row], augmented_matrix[i]\n",
    "        \n",
    "        # Make the diagonal element of the current row 1\n",
    "        pivot = augmented_matrix[i][i]\n",
    "        if pivot == 0:\n",
    "            sys.exit(\"No unique solution exists\")\n",
    "        \n",
    "        for j in range(i, num_cols + 1):\n",
    "            augmented_matrix[i][j] /= pivot\n",
    "        \n",
    "        # Eliminate other rows\n",
    "        for k in range(num_rows):\n",
    "            if k != i:\n",
    "                factor = augmented_matrix[k][i]\n",
    "                for j in range(i, num_cols + 1):\n",
    "                    augmented_matrix[k][j] -= factor * augmented_matrix[i][j]\n",
    "    \n",
    "    # Extract the solution(s)\n",
    "    solutions = [augmented_matrix[i][num_cols] for i in range(num_rows)]\n",
    "    \n",
    "    return solutions\n",
    "\n",
    "# Example usage:\n",
    "matrix = [\n",
    "    [2, 1, -1],\n",
    "    [-3, -1, 2],\n",
    "    [-2, 1, 2]\n",
    "]\n",
    "\n",
    "constants = [\n",
    "    [8],\n",
    "    [-11],\n",
    "    [-3]\n",
    "]\n",
    "\n",
    "solutions = gaussian_elimination(matrix, constants)\n",
    "print(\"Solutions:\", solutions)"
   ]
  }
 ],
 "metadata": {
  "kernelspec": {
   "display_name": "Python 3",
   "language": "python",
   "name": "python3"
  },
  "language_info": {
   "codemirror_mode": {
    "name": "ipython",
    "version": 3
   },
   "file_extension": ".py",
   "mimetype": "text/x-python",
   "name": "python",
   "nbconvert_exporter": "python",
   "pygments_lexer": "ipython3",
   "version": "3.11.5"
  }
 },
 "nbformat": 4,
 "nbformat_minor": 5
}
