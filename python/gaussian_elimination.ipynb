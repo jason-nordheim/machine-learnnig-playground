{
 "cells": [
  {
   "cell_type": "markdown",
   "metadata": {},
   "source": [
    "# Gaussian Elimination and finding the Inverse matrix "
   ]
  },
  {
   "cell_type": "code",
   "execution_count": 4,
   "metadata": {},
   "outputs": [],
   "source": [
    "import numpy as np"
   ]
  },
  {
   "cell_type": "code",
   "execution_count": 2,
   "metadata": {},
   "outputs": [
    {
     "name": "stdout",
     "output_type": "stream",
     "text": [
      "initial matrix: [[1 2]\n",
      " [3 4]]\n"
     ]
    }
   ],
   "source": [
    "A = np.array([[1,2],[3,4]])\n",
    "print(f'initial matrix: {A}')"
   ]
  },
  {
   "cell_type": "code",
   "execution_count": 3,
   "metadata": {},
   "outputs": [
    {
     "name": "stdout",
     "output_type": "stream",
     "text": [
      "inverting the same matrix produces: [[-2.   1. ]\n",
      " [ 1.5 -0.5]]\n"
     ]
    }
   ],
   "source": [
    "# invert the matrix \n",
    "Ainv = np.linalg.inv(A)\n",
    "print(f'inverting the same matrix produces: {Ainv}')"
   ]
  },
  {
   "cell_type": "code",
   "execution_count": 4,
   "metadata": {},
   "outputs": [
    {
     "name": "stdout",
     "output_type": "stream",
     "text": [
      "in this example, we will use the constant vector: [ 5 11]\n"
     ]
    }
   ],
   "source": [
    "constant_vector = np.array([5,11])\n",
    "print(f'in this example, we will use the constant vector: {constant_vector}')"
   ]
  },
  {
   "cell_type": "code",
   "execution_count": 6,
   "metadata": {},
   "outputs": [
    {
     "name": "stdout",
     "output_type": "stream",
     "text": [
      "performing multiplication on our inverse matrix with our vector results in: [1. 2.]\n"
     ]
    }
   ],
   "source": [
    "# Get the result of matrix multiplication of our inverse matrix and vector \n",
    "x = np.dot(Ainv, constant_vector)\n",
    "print(f'performing multiplication on our inverse matrix with our vector results in: {x}')"
   ]
  },
  {
   "cell_type": "code",
   "execution_count": 11,
   "metadata": {},
   "outputs": [
    {
     "name": "stdout",
     "output_type": "stream",
     "text": [
      "Verification using the dot product of our input array and result produces: [ 5. 11.] which matches [ 5 11]\n"
     ]
    }
   ],
   "source": [
    "# the result of the above operations should match the result of the dot product of our input matrix and the result from the previous step\n",
    "verification = np.dot(A, x)\n",
    "print(f'Verification using the dot product of our input array and result produces: {verification} which matches {constant_vector}')"
   ]
  },
  {
   "cell_type": "markdown",
   "metadata": {},
   "source": [
    "# Inverse and Determinant "
   ]
  },
  {
   "cell_type": "code",
   "execution_count": 13,
   "metadata": {},
   "outputs": [
    {
     "name": "stdout",
     "output_type": "stream",
     "text": [
      "The determinant of matrix: [[1 2]\n",
      " [3 4]] is: -2.0000000000000004\n"
     ]
    }
   ],
   "source": [
    "determinant = np.linalg.det(A)\n",
    "print(f'The determinant of matrix: {A} is: {determinant}')"
   ]
  },
  {
   "cell_type": "code",
   "execution_count": 15,
   "metadata": {},
   "outputs": [
    {
     "name": "stdout",
     "output_type": "stream",
     "text": [
      "An example of a matrix with linearly depedent columns is [[3 1]\n",
      " [6 2]]\n",
      "We know this is linearly dependent because the determinant of [[3 1]\n",
      " [6 2]] is 0.0\n"
     ]
    }
   ],
   "source": [
    "matrix_with_linear_dependent_cols = np.array([[3,1],[6,2]])\n",
    "print(f'An example of a matrix with linearly depedent columns is {matrix_with_linear_dependent_cols}')\n",
    "\n",
    "print(f'We know this is linearly dependent because the determinant of {matrix_with_linear_dependent_cols} is {np.linalg.det(matrix_with_linear_dependent_cols)}')"
   ]
  },
  {
   "cell_type": "code",
   "execution_count": 17,
   "metadata": {},
   "outputs": [
    {
     "ename": "LinAlgError",
     "evalue": "Singular matrix",
     "output_type": "error",
     "traceback": [
      "\u001b[0;31m---------------------------------------------------------------------------\u001b[0m",
      "\u001b[0;31mLinAlgError\u001b[0m                               Traceback (most recent call last)",
      "\u001b[1;32m/Users/jnordheim/dev/learning/linear-algebra-for-machine-learning/code/gaussian_elimination.ipynb Cell 11\u001b[0m line \u001b[0;36m3\n\u001b[1;32m      <a href='vscode-notebook-cell:/Users/jnordheim/dev/learning/linear-algebra-for-machine-learning/code/gaussian_elimination.ipynb#X16sZmlsZQ%3D%3D?line=0'>1</a>\u001b[0m \u001b[39m# beacuse the matrix has linearly dependent columns, we know the matrix cannot be inverted\u001b[39;00m\n\u001b[1;32m      <a href='vscode-notebook-cell:/Users/jnordheim/dev/learning/linear-algebra-for-machine-learning/code/gaussian_elimination.ipynb#X16sZmlsZQ%3D%3D?line=1'>2</a>\u001b[0m \u001b[39m# as such, trying to run the inversion function will produce an error\u001b[39;00m\n\u001b[0;32m----> <a href='vscode-notebook-cell:/Users/jnordheim/dev/learning/linear-algebra-for-machine-learning/code/gaussian_elimination.ipynb#X16sZmlsZQ%3D%3D?line=2'>3</a>\u001b[0m np\u001b[39m.\u001b[39;49mlinalg\u001b[39m.\u001b[39;49minv(matrix_with_linear_dependent_cols)\n",
      "File \u001b[0;32m/usr/local/lib/python3.11/site-packages/numpy/linalg/linalg.py:561\u001b[0m, in \u001b[0;36minv\u001b[0;34m(a)\u001b[0m\n\u001b[1;32m    559\u001b[0m signature \u001b[39m=\u001b[39m \u001b[39m'\u001b[39m\u001b[39mD->D\u001b[39m\u001b[39m'\u001b[39m \u001b[39mif\u001b[39;00m isComplexType(t) \u001b[39melse\u001b[39;00m \u001b[39m'\u001b[39m\u001b[39md->d\u001b[39m\u001b[39m'\u001b[39m\n\u001b[1;32m    560\u001b[0m extobj \u001b[39m=\u001b[39m get_linalg_error_extobj(_raise_linalgerror_singular)\n\u001b[0;32m--> 561\u001b[0m ainv \u001b[39m=\u001b[39m _umath_linalg\u001b[39m.\u001b[39;49minv(a, signature\u001b[39m=\u001b[39;49msignature, extobj\u001b[39m=\u001b[39;49mextobj)\n\u001b[1;32m    562\u001b[0m \u001b[39mreturn\u001b[39;00m wrap(ainv\u001b[39m.\u001b[39mastype(result_t, copy\u001b[39m=\u001b[39m\u001b[39mFalse\u001b[39;00m))\n",
      "File \u001b[0;32m/usr/local/lib/python3.11/site-packages/numpy/linalg/linalg.py:112\u001b[0m, in \u001b[0;36m_raise_linalgerror_singular\u001b[0;34m(err, flag)\u001b[0m\n\u001b[1;32m    111\u001b[0m \u001b[39mdef\u001b[39;00m \u001b[39m_raise_linalgerror_singular\u001b[39m(err, flag):\n\u001b[0;32m--> 112\u001b[0m     \u001b[39mraise\u001b[39;00m LinAlgError(\u001b[39m\"\u001b[39m\u001b[39mSingular matrix\u001b[39m\u001b[39m\"\u001b[39m)\n",
      "\u001b[0;31mLinAlgError\u001b[0m: Singular matrix"
     ]
    }
   ],
   "source": [
    "# beacuse the matrix has linearly dependent columns, we know the matrix cannot be inverted\n",
    "# as such, trying to run the inversion function will produce an error\n",
    "np.linalg.inv(matrix_with_linear_dependent_cols)"
   ]
  }
 ],
 "metadata": {
  "kernelspec": {
   "display_name": "Python 3",
   "language": "python",
   "name": "python3"
  },
  "language_info": {
   "codemirror_mode": {
    "name": "ipython",
    "version": 3
   },
   "file_extension": ".py",
   "mimetype": "text/x-python",
   "name": "python",
   "nbconvert_exporter": "python",
   "pygments_lexer": "ipython3",
   "version": "3.11.5"
  },
  "orig_nbformat": 4
 },
 "nbformat": 4,
 "nbformat_minor": 2
}
